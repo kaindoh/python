{
  "nbformat": 4,
  "nbformat_minor": 0,
  "metadata": {
    "colab": {
      "name": "Python programming :variables,printing ,comments,operators and inputs",
      "version": "0.3.2",
      "provenance": [],
      "collapsed_sections": [],
      "toc_visible": true,
      "include_colab_link": true
    },
    "kernelspec": {
      "name": "python3",
      "display_name": "Python 3"
    },
    "accelerator": "GPU"
  },
  "cells": [
    {
      "cell_type": "markdown",
      "metadata": {
        "id": "view-in-github",
        "colab_type": "text"
      },
      "source": [
        "<a href=\"https://colab.research.google.com/github/kaindoh/python/blob/master/Python_programming_variables%2Cprinting_%2Ccomments%2Coperators_and_inputs.ipynb\" target=\"_parent\"><img src=\"https://colab.research.google.com/assets/colab-badge.svg\" alt=\"Open In Colab\"/></a>"
      ]
    },
    {
      "cell_type": "code",
      "metadata": {
        "id": "785DcSj8lxqu",
        "colab_type": "code",
        "colab": {}
      },
      "source": [
        ""
      ],
      "execution_count": 0,
      "outputs": []
    },
    {
      "cell_type": "markdown",
      "metadata": {
        "id": "ZkfEz5SlmOpx",
        "colab_type": "text"
      },
      "source": [
        ""
      ]
    },
    {
      "cell_type": "markdown",
      "metadata": {
        "id": "z29o8rEgpLPX",
        "colab_type": "text"
      },
      "source": [
        "# print\n",
        "\n"
      ]
    },
    {
      "cell_type": "code",
      "metadata": {
        "id": "HJ-S0_0LmYcW",
        "colab_type": "code",
        "outputId": "1ca8bffc-94b2-44d8-fecb-cb5db3072f09",
        "colab": {
          "base_uri": "https://localhost:8080/",
          "height": 72
        }
      },
      "source": [
        "print(\" eve\")\n",
        "print(\" i am moringa data science student\")\n",
        "print(44+22)\n"
      ],
      "execution_count": 0,
      "outputs": [
        {
          "output_type": "stream",
          "text": [
            " eve\n",
            " i am moringa data science student\n",
            "66\n"
          ],
          "name": "stdout"
        }
      ]
    },
    {
      "cell_type": "code",
      "metadata": {
        "id": "eF_RnAC2pHsl",
        "colab_type": "code",
        "colab": {}
      },
      "source": [
        ""
      ],
      "execution_count": 0,
      "outputs": []
    },
    {
      "cell_type": "markdown",
      "metadata": {
        "id": "BZTAXlcdo5_o",
        "colab_type": "text"
      },
      "source": [
        "# comments"
      ]
    },
    {
      "cell_type": "code",
      "metadata": {
        "id": "g5sMMPBjo9fD",
        "colab_type": "code",
        "colab": {}
      },
      "source": [
        "/* i stay in kiambu\n",
        "i stay in kiambu\n",
        "i stay in kiambu\n",
        "*/\n",
        "#this is a multi line comment "
      ],
      "execution_count": 0,
      "outputs": []
    },
    {
      "cell_type": "code",
      "metadata": {
        "id": "IybKTErxpjEp",
        "colab_type": "code",
        "colab": {}
      },
      "source": [
        "a=\"Hello Brenda\"#create variable holding a string\n",
        "\n",
        "print (a)#display the variable\n"
      ],
      "execution_count": 0,
      "outputs": []
    },
    {
      "cell_type": "code",
      "metadata": {
        "id": "Nsg4ewl25lBV",
        "colab_type": "code",
        "outputId": "c3027924-8f5c-4699-d7d7-124462c16e8f",
        "colab": {
          "base_uri": "https://localhost:8080/",
          "height": 237
        }
      },
      "source": [
        "#create a list holding months in a year\n",
        "months = ['January','February','March','April','May','June','July','August','September','October','November','December']\n",
        "\n",
        "#function to print months in a year\n",
        "def showCalender(months):          \n",
        "  \n",
        "  #loop through the month lists\n",
        "  for month in months:\n",
        "    print (month)  #display each month\n",
        "    \n",
        "showCalender(months) #call function "
      ],
      "execution_count": 0,
      "outputs": [
        {
          "output_type": "stream",
          "text": [
            "January\n",
            "February\n",
            "March\n",
            "April\n",
            "May\n",
            "June\n",
            "July\n",
            "August\n",
            "September\n",
            "October\n",
            "November\n",
            "December\n"
          ],
          "name": "stdout"
        }
      ]
    },
    {
      "cell_type": "markdown",
      "metadata": {
        "id": "4nPWn7T4pk8a",
        "colab_type": "text"
      },
      "source": [
        "# variables\n"
      ]
    },
    {
      "cell_type": "code",
      "metadata": {
        "id": "DjqPv58lpq22",
        "colab_type": "code",
        "outputId": "3c3946c3-fe02-44c2-9cf0-273073b549eb",
        "colab": {
          "base_uri": "https://localhost:8080/",
          "height": 72
        }
      },
      "source": [
        "author=\"Harry potter and Deathly Hollows\"\n",
        "print(author)\n",
        "\n",
        "quote_7=\"Einsten\"\n",
        "print(quote_7)\n",
        "\n",
        "secondNumber =400\n",
        "print(secondNumber)"
      ],
      "execution_count": 0,
      "outputs": [
        {
          "output_type": "stream",
          "text": [
            "Harry potter and Deathly Hollows\n",
            "Einsten\n",
            "400\n"
          ],
          "name": "stdout"
        }
      ]
    },
    {
      "cell_type": "markdown",
      "metadata": {
        "id": "gJt2U351r5yZ",
        "colab_type": "text"
      },
      "source": [
        "# operators"
      ]
    },
    {
      "cell_type": "code",
      "metadata": {
        "id": "kTvGjTHZr--3",
        "colab_type": "code",
        "outputId": "ded8f5b7-1947-4c9e-b971-f7fe9118edeb",
        "colab": {
          "base_uri": "https://localhost:8080/",
          "height": 35
        }
      },
      "source": [
        "import statistics\n",
        "a=50\n",
        "b=100\n",
        "c=500\n",
        "persons=[a,b,c]\n",
        "print(statistics.mean(persons))\n"
      ],
      "execution_count": 0,
      "outputs": [
        {
          "output_type": "stream",
          "text": [
            "216.66666666666666\n"
          ],
          "name": "stdout"
        }
      ]
    },
    {
      "cell_type": "code",
      "metadata": {
        "id": "869kYKLh9qJM",
        "colab_type": "code",
        "outputId": "4e2768e6-d51b-49a7-e93e-1b7b47068ae2",
        "colab": {
          "base_uri": "https://localhost:8080/",
          "height": 35
        }
      },
      "source": [
        "a= 50\n",
        "b=100\n",
        "c=500\n",
        "\n",
        "average = (a + b + c)/3\n",
        "\n",
        "print(average)"
      ],
      "execution_count": 0,
      "outputs": [
        {
          "output_type": "stream",
          "text": [
            "216.66666666666666\n"
          ],
          "name": "stdout"
        }
      ]
    },
    {
      "cell_type": "code",
      "metadata": {
        "id": "ZYUi1Kt2-Bfu",
        "colab_type": "code",
        "outputId": "e8c782a1-aec0-4272-b856-53b1ab237573",
        "colab": {
          "base_uri": "https://localhost:8080/",
          "height": 35
        }
      },
      "source": [
        "jeans=4500\n",
        "Tshirts=2500\n",
        "price=(3*jeans) + (6*Tshirts)\n",
        "print (price)"
      ],
      "execution_count": 0,
      "outputs": [
        {
          "output_type": "stream",
          "text": [
            "28500\n"
          ],
          "name": "stdout"
        }
      ]
    },
    {
      "cell_type": "code",
      "metadata": {
        "id": "nbnGLvK0-0Jv",
        "colab_type": "code",
        "outputId": "0834526f-208a-48ed-956e-00fdf05118da",
        "colab": {
          "base_uri": "https://localhost:8080/",
          "height": 54
        }
      },
      "source": [
        "savings=1000\n",
        "growth_multiplier=1.1\n",
        "results1=savings * (growth_multiplier ** 7)\n",
        "print(results1)\n",
        "results2=savings * (growth_multiplier ** 15)\n",
        "print(results2)"
      ],
      "execution_count": 0,
      "outputs": [
        {
          "output_type": "stream",
          "text": [
            "1948.7171000000012\n",
            "4177.248169415656\n"
          ],
          "name": "stdout"
        }
      ]
    },
    {
      "cell_type": "markdown",
      "metadata": {
        "id": "mCyWiHkCtaBi",
        "colab_type": "text"
      },
      "source": [
        "#input"
      ]
    },
    {
      "cell_type": "code",
      "metadata": {
        "id": "5vZNXfOHtc4K",
        "colab_type": "code",
        "outputId": "af2fd17c-f2e2-4d05-c414-c5f2bbfb145c",
        "colab": {
          "base_uri": "https://localhost:8080/",
          "height": 72
        }
      },
      "source": [
        "height=float(input(\"enter your height in metres: \"))\n",
        "height_feet=height*3.28084\n",
        "height_inches=(height*39.3701)\n",
        "print(\"Your height in feets is %f\"  %height_feet)\n",
        "print(\"Your height in inches is %f\" % height_inches)\n",
        "\n",
        "\n"
      ],
      "execution_count": 0,
      "outputs": [
        {
          "output_type": "stream",
          "text": [
            "enter your height in metres: 1.8\n",
            "Your height in feets is 5.905512\n",
            "Your height in inches is 70.866180\n"
          ],
          "name": "stdout"
        }
      ]
    },
    {
      "cell_type": "code",
      "metadata": {
        "id": "vWMpFJDeSCg9",
        "colab_type": "code",
        "colab": {
          "base_uri": "https://localhost:8080/",
          "height": 72
        },
        "outputId": "85c68bf8-12d5-4733-e191-c0b08f8898b3"
      },
      "source": [
        "import math\n",
        "radius=float(input(\"enter your radius: \"))\n",
        "height=float(input(\"enter your height: \"))\n",
        "vol= math.pi * height * (radius ** 2) \n",
        "print(vol)"
      ],
      "execution_count": 2,
      "outputs": [
        {
          "output_type": "stream",
          "text": [
            "enter your radius: 3\n",
            "enter your height: 5\n",
            "141.3716694115407\n"
          ],
          "name": "stdout"
        }
      ]
    },
    {
      "cell_type": "code",
      "metadata": {
        "id": "p-NDC_aVTDpQ",
        "colab_type": "code",
        "colab": {
          "base_uri": "https://localhost:8080/",
          "height": 72
        },
        "outputId": "55cb8204-2320-4e24-8e7b-173665f3c983"
      },
      "source": [
        "parking_fee = 50\n",
        "money_given= int(input(\"enter the money inserted in machine \"))\n",
        "\n",
        "if  (money_given > 200):\n",
        "  change= money_given - parking_fee\n",
        "else:\n",
        "  print(\"The money must be 200 above\")\n",
        "print (\"Denomination of 100 are \", change //100)  \n",
        "print (\"Denomination of 50 are \", (change % 100)/50 )\n",
        "  \n",
        "\n"
      ],
      "execution_count": 7,
      "outputs": [
        {
          "output_type": "stream",
          "text": [
            "enter the money inserted in machine 400\n",
            "Denomination of 100 are  3\n",
            "Denomination of 50 are  1.0\n"
          ],
          "name": "stdout"
        }
      ]
    },
    {
      "cell_type": "code",
      "metadata": {
        "id": "CtmBUH-au4qv",
        "colab_type": "code",
        "colab": {}
      },
      "source": [
        ""
      ],
      "execution_count": 0,
      "outputs": []
    }
  ]
}